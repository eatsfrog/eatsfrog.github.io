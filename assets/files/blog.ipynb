{
 "cells": [
  {
   "cell_type": "code",
   "execution_count": 45,
   "metadata": {},
   "outputs": [
    {
     "name": "stdout",
     "output_type": "stream",
     "text": [
      "Baseline data shape: (79, 6)\n",
      "   frog_id       species     sex  weight  age  size\n",
      "0     3001     Dart Frog    Male   340.8    5  3.52\n",
      "1     3002     Tree Frog  Female   432.4    7  5.00\n",
      "2     3003  Leopard Frog  Female   434.0   10  5.49\n",
      "\n",
      "Baseline update data shape: (79, 6)\n",
      "   frog_id habitat   health  max_hop  thermal_limit  call_freq\n",
      "0     3001    Pond  Healthy     1.66          31.15     455.50\n",
      "1     3002    Pond  Healthy     2.55          27.86     369.87\n",
      "2     3003   Swamp  Healthy     2.86          27.59     413.24\n",
      "\n",
      "New arrivals data shape: (23, 12)\n",
      "   frog_id       species   sex habitat   health  weight  size  age  max_hop  \\\n",
      "0     3078  Leopard Frog  Male  Forest  Healthy   811.1  6.44    5     2.89   \n",
      "1     3079  Leopard Frog  Male    Pond     Sick   584.5  7.90    6     2.53   \n",
      "2     3080     Dart Frog  Male  Forest  Healthy   413.4  5.80    7     2.31   \n",
      "\n",
      "   thermal_limit  call_freq arrival_date  \n",
      "0          27.45     479.92   2023-01-01  \n",
      "1          29.99     396.86   2023-01-02  \n",
      "2          28.08     368.61   2023-01-03  \n"
     ]
    }
   ],
   "source": [
    "import pandas as pd\n",
    "\n",
    "# Load and preview baseline data\n",
    "baseline_df = pd.read_csv('frog_baseline.csv')\n",
    "print(\"Baseline data shape:\", baseline_df.shape)\n",
    "print(baseline_df.head(3), end=\"\\n\\n\")\n",
    "\n",
    "# Load and preview baseline update data\n",
    "baseline_update_df = pd.read_csv('frog_baseline_update.csv')\n",
    "print(\"Baseline update data shape:\", baseline_update_df.shape)\n",
    "print(baseline_update_df.head(3), end=\"\\n\\n\")\n",
    "\n",
    "# Load and preview new arrivals data\n",
    "new_arrivals_df = pd.read_csv('frog_new_arrivals.csv')\n",
    "print(\"New arrivals data shape:\", new_arrivals_df.shape)\n",
    "print(new_arrivals_df.head(3))\n"
   ]
  },
  {
   "cell_type": "code",
   "execution_count": 46,
   "metadata": {},
   "outputs": [
    {
     "name": "stdout",
     "output_type": "stream",
     "text": [
      "(81, 11)\n",
      "\n",
      "   frog_id       species     sex  weight   age  size habitat   health  \\\n",
      "0        0           NaN     NaN     NaN   NaN   NaN     NaN      NaN   \n",
      "1     3001     Dart Frog    Male   340.8   5.0  3.52    Pond  Healthy   \n",
      "2     3002     Tree Frog  Female   432.4   7.0  5.00    Pond  Healthy   \n",
      "3     3003  Leopard Frog  Female   434.0  10.0  5.49   Swamp  Healthy   \n",
      "4     3004     Tree Frog  Female   124.9   7.0  2.19    Pond  Healthy   \n",
      "\n",
      "   max_hop  thermal_limit  call_freq  \n",
      "0     0.00           0.00       0.00  \n",
      "1     1.66          31.15     455.50  \n",
      "2     2.55          27.86     369.87  \n",
      "3     2.86          27.59     413.24  \n",
      "4     1.48          31.67     779.69  \n"
     ]
    }
   ],
   "source": [
    "merged_df = pd.merge(baseline_df, baseline_update_df, on='frog_id', how='outer')\n",
    "print(merged_df.shape, end=\"\\n\\n\")\n",
    "print(merged_df.head())"
   ]
  },
  {
   "cell_type": "code",
   "execution_count": 47,
   "metadata": {},
   "outputs": [
    {
     "name": "stdout",
     "output_type": "stream",
     "text": [
      "(104, 12)\n",
      "\n",
      "   frog_id       species     sex  weight   age  size habitat   health  \\\n",
      "0        0           NaN     NaN     NaN   NaN   NaN     NaN      NaN   \n",
      "1     3001     Dart Frog    Male   340.8   5.0  3.52    Pond  Healthy   \n",
      "2     3002     Tree Frog  Female   432.4   7.0  5.00    Pond  Healthy   \n",
      "3     3003  Leopard Frog  Female   434.0  10.0  5.49   Swamp  Healthy   \n",
      "4     3004     Tree Frog  Female   124.9   7.0  2.19    Pond  Healthy   \n",
      "\n",
      "   max_hop  thermal_limit  call_freq arrival_date  \n",
      "0     0.00           0.00       0.00          NaN  \n",
      "1     1.66          31.15     455.50          NaN  \n",
      "2     2.55          27.86     369.87          NaN  \n",
      "3     2.86          27.59     413.24          NaN  \n",
      "4     1.48          31.67     779.69          NaN  \n"
     ]
    }
   ],
   "source": [
    "final_df = pd.concat([merged_df, new_arrivals_df], ignore_index=True)\n",
    "print(final_df.shape,end=\"\\n\\n\")\n",
    "print(final_df.head())"
   ]
  },
  {
   "cell_type": "code",
   "execution_count": 48,
   "metadata": {},
   "outputs": [
    {
     "name": "stdout",
     "output_type": "stream",
     "text": [
      "    frog_id   species     sex  weight  age  size habitat   health  max_hop  \\\n",
      "77     3077  Bullfrog  Female   897.9  5.0  7.34   Swamp  Healthy     3.14   \n",
      "78     3077  Bullfrog  Female   897.9  5.0  7.34   Swamp  Healthy     3.14   \n",
      "\n",
      "    thermal_limit  call_freq arrival_date  \n",
      "77          28.31      356.9          NaN  \n",
      "78          28.31      356.9          NaN  \n",
      "\n",
      "(103, 12)\n"
     ]
    }
   ],
   "source": [
    "print(final_df[final_df.duplicated(keep=False)], end=\"\\n\\n\")\n",
    "final_df.drop_duplicates(keep='first', inplace=True)\n",
    "print(final_df.shape)"
   ]
  },
  {
   "cell_type": "code",
   "execution_count": 52,
   "metadata": {},
   "outputs": [
    {
     "name": "stdout",
     "output_type": "stream",
     "text": [
      "    frog_id species   sex  weight  age  size habitat   health  max_hop  \\\n",
      "0         0     NaN   NaN     NaN  NaN   NaN     NaN      NaN      0.0   \n",
      "79     3200     NaN  Male     NaN  5.0  10.0     NaN      NaN      NaN   \n",
      "80     9999     NaN   NaN     NaN  NaN   NaN    Pond  Healthy      1.5   \n",
      "\n",
      "    thermal_limit  call_freq  \n",
      "0             0.0        0.0  \n",
      "79            NaN        NaN  \n",
      "80           40.0       25.0  \n"
     ]
    }
   ],
   "source": [
    "print(final_df[final_df.isna().any(axis=1)])"
   ]
  },
  {
   "cell_type": "code",
   "execution_count": 53,
   "metadata": {},
   "outputs": [
    {
     "name": "stdout",
     "output_type": "stream",
     "text": [
      "(100, 11)\n"
     ]
    }
   ],
   "source": [
    "# Drop rows with NaN values\n",
    "final_df.dropna(inplace=True)\n",
    "print(final_df.shape)"
   ]
  },
  {
   "cell_type": "code",
   "execution_count": 55,
   "metadata": {},
   "outputs": [
    {
     "name": "stdout",
     "output_type": "stream",
     "text": [
      "(100, 11)\n",
      "   frog_id       species     sex  weight   age  size habitat   health  \\\n",
      "1     3001     Dart Frog    Male   340.8   5.0  3.52    Pond  Healthy   \n",
      "2     3002     Tree Frog  Female   432.4   7.0  5.00    Pond  Healthy   \n",
      "3     3003  Leopard Frog  Female   434.0  10.0  5.49   Swamp  Healthy   \n",
      "\n",
      "   max_hop  thermal_limit  call_freq  \n",
      "1     1.66          31.15     455.50  \n",
      "2     2.55          27.86     369.87  \n",
      "3     2.86          27.59     413.24  \n"
     ]
    }
   ],
   "source": [
    "print(final_df.shape)\n",
    "print(final_df.head(3))"
   ]
  },
  {
   "cell_type": "code",
   "execution_count": 57,
   "metadata": {},
   "outputs": [],
   "source": [
    "# Reorder the columns of final_df\n",
    "desired_order = ['frog_id', 'species', 'sex', 'habitat', 'health', 'weight', 'size',\n",
    "                 'age', 'max_hop', 'thermal_limit', 'call_freq']\n",
    "\n",
    "final_df = final_df[desired_order]"
   ]
  },
  {
   "cell_type": "code",
   "execution_count": 60,
   "metadata": {},
   "outputs": [
    {
     "name": "stdout",
     "output_type": "stream",
     "text": [
      "Final data shape: (100, 11)\n",
      "   frog_id       species     sex habitat   health  weight  size   age  \\\n",
      "1     3001     Dart Frog    Male    Pond  Healthy   340.8  3.52   5.0   \n",
      "2     3002     Tree Frog  Female    Pond  Healthy   432.4  5.00   7.0   \n",
      "3     3003  Leopard Frog  Female   Swamp  Healthy   434.0  5.49  10.0   \n",
      "\n",
      "   max_hop  thermal_limit  call_freq  \n",
      "1     1.66          31.15     455.50  \n",
      "2     2.55          27.86     369.87  \n",
      "3     2.86          27.59     413.24  \n"
     ]
    }
   ],
   "source": [
    "# Print dataset\n",
    "print(\"Final data shape:\", final_df.shape)\n",
    "print(final_df.head(3))"
   ]
  }
 ],
 "metadata": {
  "kernelspec": {
   "display_name": "stats",
   "language": "python",
   "name": "python3"
  },
  "language_info": {
   "codemirror_mode": {
    "name": "ipython",
    "version": 3
   },
   "file_extension": ".py",
   "mimetype": "text/x-python",
   "name": "python",
   "nbconvert_exporter": "python",
   "pygments_lexer": "ipython3",
   "version": "3.12.7"
  }
 },
 "nbformat": 4,
 "nbformat_minor": 2
}
